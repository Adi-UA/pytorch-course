{
 "cells": [
  {
   "cell_type": "markdown",
   "metadata": {},
   "source": [
    "## 00. PyTorch Fundamentals\n",
    "\n",
    "Notebook: https://www.learnpytorch.io/00_pytorch_fundamentals/\n"
   ]
  },
  {
   "cell_type": "code",
   "execution_count": 38,
   "metadata": {},
   "outputs": [
    {
     "name": "stdout",
     "output_type": "stream",
     "text": [
      "Requirement already satisfied: torch in ./venv/lib/python3.11/site-packages (2.1.1)\n",
      "Requirement already satisfied: torchvision in ./venv/lib/python3.11/site-packages (0.16.1)\n",
      "Requirement already satisfied: torchaudio in ./venv/lib/python3.11/site-packages (2.1.1)\n",
      "Requirement already satisfied: pandas in ./venv/lib/python3.11/site-packages (2.1.3)\n",
      "Requirement already satisfied: numpy in ./venv/lib/python3.11/site-packages (1.26.2)\n",
      "Requirement already satisfied: matplotlib in ./venv/lib/python3.11/site-packages (3.8.2)\n",
      "Requirement already satisfied: filelock in ./venv/lib/python3.11/site-packages (from torch) (3.13.1)\n",
      "Requirement already satisfied: typing-extensions in ./venv/lib/python3.11/site-packages (from torch) (4.8.0)\n",
      "Requirement already satisfied: sympy in ./venv/lib/python3.11/site-packages (from torch) (1.12)\n",
      "Requirement already satisfied: networkx in ./venv/lib/python3.11/site-packages (from torch) (3.2.1)\n",
      "Requirement already satisfied: jinja2 in ./venv/lib/python3.11/site-packages (from torch) (3.1.2)\n",
      "Requirement already satisfied: fsspec in ./venv/lib/python3.11/site-packages (from torch) (2023.10.0)\n",
      "Requirement already satisfied: requests in ./venv/lib/python3.11/site-packages (from torchvision) (2.31.0)\n",
      "Requirement already satisfied: pillow!=8.3.*,>=5.3.0 in ./venv/lib/python3.11/site-packages (from torchvision) (10.1.0)\n",
      "Requirement already satisfied: python-dateutil>=2.8.2 in ./venv/lib/python3.11/site-packages (from pandas) (2.8.2)\n",
      "Requirement already satisfied: pytz>=2020.1 in ./venv/lib/python3.11/site-packages (from pandas) (2023.3.post1)\n",
      "Requirement already satisfied: tzdata>=2022.1 in ./venv/lib/python3.11/site-packages (from pandas) (2023.3)\n",
      "Requirement already satisfied: contourpy>=1.0.1 in ./venv/lib/python3.11/site-packages (from matplotlib) (1.2.0)\n",
      "Requirement already satisfied: cycler>=0.10 in ./venv/lib/python3.11/site-packages (from matplotlib) (0.12.1)\n",
      "Requirement already satisfied: fonttools>=4.22.0 in ./venv/lib/python3.11/site-packages (from matplotlib) (4.45.1)\n",
      "Requirement already satisfied: kiwisolver>=1.3.1 in ./venv/lib/python3.11/site-packages (from matplotlib) (1.4.5)\n",
      "Requirement already satisfied: packaging>=20.0 in ./venv/lib/python3.11/site-packages (from matplotlib) (23.2)\n",
      "Requirement already satisfied: pyparsing>=2.3.1 in ./venv/lib/python3.11/site-packages (from matplotlib) (3.1.1)\n",
      "Requirement already satisfied: six>=1.5 in ./venv/lib/python3.11/site-packages (from python-dateutil>=2.8.2->pandas) (1.16.0)\n",
      "Requirement already satisfied: MarkupSafe>=2.0 in ./venv/lib/python3.11/site-packages (from jinja2->torch) (2.1.3)\n",
      "Requirement already satisfied: charset-normalizer<4,>=2 in ./venv/lib/python3.11/site-packages (from requests->torchvision) (3.3.2)\n",
      "Requirement already satisfied: idna<4,>=2.5 in ./venv/lib/python3.11/site-packages (from requests->torchvision) (3.5)\n",
      "Requirement already satisfied: urllib3<3,>=1.21.1 in ./venv/lib/python3.11/site-packages (from requests->torchvision) (2.1.0)\n",
      "Requirement already satisfied: certifi>=2017.4.17 in ./venv/lib/python3.11/site-packages (from requests->torchvision) (2023.11.17)\n",
      "Requirement already satisfied: mpmath>=0.19 in ./venv/lib/python3.11/site-packages (from sympy->torch) (1.3.0)\n",
      "\n",
      "\u001b[1m[\u001b[0m\u001b[34;49mnotice\u001b[0m\u001b[1;39;49m]\u001b[0m\u001b[39;49m A new release of pip is available: \u001b[0m\u001b[31;49m23.1.2\u001b[0m\u001b[39;49m -> \u001b[0m\u001b[32;49m23.3.1\u001b[0m\n",
      "\u001b[1m[\u001b[0m\u001b[34;49mnotice\u001b[0m\u001b[1;39;49m]\u001b[0m\u001b[39;49m To update, run: \u001b[0m\u001b[32;49mpip install --upgrade pip\u001b[0m\n",
      "Note: you may need to restart the kernel to use updated packages.\n"
     ]
    }
   ],
   "source": [
    "%pip install torch torchvision torchaudio pandas numpy matplotlib;"
   ]
  },
  {
   "cell_type": "code",
   "execution_count": 39,
   "metadata": {},
   "outputs": [
    {
     "name": "stdout",
     "output_type": "stream",
     "text": [
      "Torch version: 2.1.1\n",
      "Pandas version: 2.1.3\n",
      "Numpy version: 1.26.2\n",
      "GPU available: False\n"
     ]
    }
   ],
   "source": [
    "import torch\n",
    "import pandas as pd\n",
    "import numpy as np\n",
    "import matplotlib.pyplot as plt\n",
    "\n",
    "\n",
    "print(f\"Torch version: {torch.__version__}\")\n",
    "print(f\"Pandas version: {pd.__version__}\")\n",
    "print(f\"Numpy version: {np.__version__}\")\n",
    "\n",
    "# Check if GPU is available\n",
    "print(f\"GPU available: {torch.cuda.is_available()}\")\n",
    "if torch.cuda.is_available():\n",
    "    print(f\"GPU device name: {torch.cuda.get_device_name()}\")\n",
    "    print(f\"GPU device count: {torch.cuda.device_count()}\")"
   ]
  },
  {
   "cell_type": "markdown",
   "metadata": {},
   "source": [
    "## Introduction to Tensors\n",
    "\n",
    "### Creating Tensors\n"
   ]
  },
  {
   "cell_type": "code",
   "execution_count": 40,
   "metadata": {},
   "outputs": [
    {
     "name": "stdout",
     "output_type": "stream",
     "text": [
      "3.700000047683716 is a <class 'torch.Tensor'>\n",
      "Scalar shape: torch.Size([])\n",
      "Scalar is a tensor of rank: 0\n",
      "Use .item() to get the value of a scalar as a Python number: 3.700000047683716\n"
     ]
    }
   ],
   "source": [
    "# Scalar\n",
    "scalar = torch.tensor(3.7)\n",
    "\n",
    "print(f\"{scalar} is a {type(scalar)}\")\n",
    "print(f\"Scalar shape: {scalar.shape}\")\n",
    "print(f\"Scalar is a tensor of rank: {scalar.ndim}\")\n",
    "print(f\"Use .item() to get the value of a scalar as a Python number: {scalar.item()}\")"
   ]
  },
  {
   "cell_type": "markdown",
   "metadata": {},
   "source": [
    "### Vector\n"
   ]
  },
  {
   "cell_type": "code",
   "execution_count": 41,
   "metadata": {},
   "outputs": [
    {
     "name": "stdout",
     "output_type": "stream",
     "text": [
      "tensor([1, 2, 3, 4, 5]) is a <class 'torch.Tensor'>\n",
      "Vector shape: torch.Size([5])\n",
      "Vector is a tensor of rank: 1\n"
     ]
    }
   ],
   "source": [
    "# vector\n",
    "vector = torch.tensor([1, 2, 3, 4, 5])\n",
    "\n",
    "print(f\"{vector} is a {type(vector)}\")\n",
    "print(f\"Vector shape: {vector.shape}\")\n",
    "print(f\"Vector is a tensor of rank: {vector.ndim}\")"
   ]
  },
  {
   "cell_type": "markdown",
   "metadata": {},
   "source": [
    "### Matrix\n"
   ]
  },
  {
   "cell_type": "code",
   "execution_count": 42,
   "metadata": {},
   "outputs": [
    {
     "name": "stdout",
     "output_type": "stream",
     "text": [
      "tensor([[1, 2, 3],\n",
      "        [4, 5, 6]]) is a <class 'torch.Tensor'>\n",
      "Matrix shape: torch.Size([2, 3])\n",
      "Matrix is a tensor of rank: 2\n",
      "matrix[0] extracts the first row: tensor([1, 2, 3]) and is a tensor of rank: 1\n"
     ]
    }
   ],
   "source": [
    "matrix = torch.tensor([[1, 2, 3], [4, 5, 6]])\n",
    "\n",
    "print(f\"{matrix} is a {type(matrix)}\")\n",
    "print(f\"Matrix shape: {matrix.shape}\")\n",
    "print(f\"Matrix is a tensor of rank: {matrix.ndim}\")\n",
    "print(\n",
    "    f\"matrix[0] extracts the first row: {matrix[0]} and is a tensor of rank: {matrix[0].ndim}\"\n",
    ")"
   ]
  },
  {
   "cell_type": "markdown",
   "metadata": {},
   "source": [
    "### Random, Zeros and Ones Tensors\n"
   ]
  },
  {
   "cell_type": "code",
   "execution_count": 43,
   "metadata": {},
   "outputs": [
    {
     "name": "stdout",
     "output_type": "stream",
     "text": [
      "Random matrix:\n",
      " tensor([[0.1299, 0.2960, 0.9996, 0.0361],\n",
      "        [0.6241, 0.7987, 0.9557, 0.1947],\n",
      "        [0.4878, 0.2237, 0.3888, 0.9679]])\n",
      "Zero matrix:\n",
      " tensor([[0., 0., 0., 0.],\n",
      "        [0., 0., 0., 0.],\n",
      "        [0., 0., 0., 0.]])\n",
      "Ones matrix:\n",
      " tensor([[1., 1.],\n",
      "        [1., 1.]])\n",
      "Identity matrix:\n",
      " tensor([[1., 0.],\n",
      "        [0., 1.]])\n"
     ]
    }
   ],
   "source": [
    "X1 = torch.rand(3, 4)  # Random matrix of shape (3,4)\n",
    "X2 = torch.zeros(3, 4)  # Zero matrix of shape (3,4)\n",
    "X3 = torch.ones(2, 2)  # Ones matrix of shape (3,4)\n",
    "X4 = torch.eye(2)  # Identity matrix of shape (3,3)\n",
    "\n",
    "print(f\"Random matrix:\\n {X1}\")\n",
    "print(f\"Zero matrix:\\n {X2}\")\n",
    "print(f\"Ones matrix:\\n {X3}\")\n",
    "print(f\"Identity matrix:\\n {X4}\")"
   ]
  },
  {
   "cell_type": "code",
   "execution_count": 44,
   "metadata": {},
   "outputs": [
    {
     "data": {
      "text/plain": [
       "<matplotlib.image.AxesImage at 0x179c22090>"
      ]
     },
     "execution_count": 44,
     "metadata": {},
     "output_type": "execute_result"
    },
    {
     "data": {
      "image/png": "[encoded data removed]",
      "text/plain": [
       "<Figure size 640x480 with 1 Axes>"
      ]
     },
     "metadata": {},
     "output_type": "display_data"
    }
   ],
   "source": [
    "# Images are represented as 3D tensors of shape (channels, height, width)\n",
    "# 3 channels (RGB), 64x64 pixels\n",
    "image = torch.rand(3, 64, 64)\n",
    "\n",
    "# Matplotlib expects the color channel to be the last dimension\n",
    "# 1,2,0 means 0th position gets the value from 1st dimension,\n",
    "# 1st position gets the value from 2nd dimension etc\n",
    "permuted = image.permute(1, 2, 0)\n",
    "plt.imshow(permuted)"
   ]
  },
  {
   "cell_type": "markdown",
   "metadata": {},
   "source": [
    "### Create a range of tensors and tensors-like\n"
   ]
  },
  {
   "cell_type": "code",
   "execution_count": 45,
   "metadata": {},
   "outputs": [
    {
     "name": "stdout",
     "output_type": "stream",
     "text": [
      "one_to_ten: tensor([0, 1, 2, 3, 4, 5, 6, 7, 8, 9])\n",
      "Rank: 1\n"
     ]
    }
   ],
   "source": [
    "# Range of values in a tensor\n",
    "one_to_ten = torch.arange(0, 10)\n",
    "print(f\"one_to_ten: {one_to_ten}\")\n",
    "print(f\"Rank: {one_to_ten.ndim}\")"
   ]
  },
  {
   "cell_type": "code",
   "execution_count": 46,
   "metadata": {},
   "outputs": [
    {
     "name": "stdout",
     "output_type": "stream",
     "text": [
      "ten_zeros: tensor([0, 0, 0, 0, 0, 0, 0, 0, 0, 0])\n"
     ]
    }
   ],
   "source": [
    "# Tensor like\n",
    "# Creates a tensor of the same shape as the input tensor\n",
    "ten_zeros = torch.zeros_like(one_to_ten)\n",
    "\n",
    "print(f\"ten_zeros: {ten_zeros}\")"
   ]
  },
  {
   "cell_type": "markdown",
   "metadata": {},
   "source": [
    "### Tensor Data Types\n",
    "\n",
    "Lower precision types are useful when training models that are not memory bound. For example, if the model is bound by computation, then it can be more efficient to use 16-bit floats instead of 32-bit floats. This is because 16-bit floats take up half as much space, so we can store twice as many of them in the same memory. It can make computations faster since we can process twice as many floats at once.\n",
    "\n",
    "_Common Issues encountered when working with tensors in DL with PyTorch_\n",
    "\n",
    "1. Tensors not right datatype\n",
    "2. Tensors not right shape\n",
    "3. Tensors not on right device\n"
   ]
  },
  {
   "cell_type": "code",
   "execution_count": 47,
   "metadata": {},
   "outputs": [
    {
     "name": "stdout",
     "output_type": "stream",
     "text": [
      "float_32_tensor: tensor([1., 2., 3.], device='mps:0')\n",
      "float_16_tensor: tensor([1., 2., 3.], device='mps:0', dtype=torch.float16)\n"
     ]
    }
   ],
   "source": [
    "# The device where the tensor is stored\n",
    "# Defaults to cpu, but we can specify cuda or mps (Apple Silicon)\n",
    "# when they are available\n",
    "device = \"cpu\"\n",
    "if torch.backends.mps.is_available():\n",
    "    device = \"mps\"\n",
    "if torch.cuda.is_available():\n",
    "    device = \"cuda\"\n",
    "\n",
    "# Create a tensor on the specified device with the specified dtype\n",
    "# requires_grad means we want to track gradients for computations on this tensor\n",
    "float_32_tensor = torch.tensor(\n",
    "    [1, 2, 3], dtype=torch.float32, device=device, requires_grad=False\n",
    ")\n",
    "float_16_tensor = torch.tensor(\n",
    "    [1, 2, 3], dtype=torch.float16, device=device, requires_grad=False\n",
    ")\n",
    "\n",
    "print(f\"float_32_tensor: {float_32_tensor}\")\n",
    "print(f\"float_16_tensor: {float_16_tensor}\")"
   ]
  },
  {
   "cell_type": "markdown",
   "metadata": {},
   "source": [
    "### Getting information from tensors"
   ]
  },
  {
   "cell_type": "code",
   "execution_count": 48,
   "metadata": {},
   "outputs": [
    {
     "name": "stdout",
     "output_type": "stream",
     "text": [
      "X: tensor([[0.3975, 0.9951, 0.5664, 0.6201],\n",
      "        [0.0029, 0.9189, 0.9453, 0.7393],\n",
      "        [0.9375, 0.9941, 0.0371, 0.8896]], device='mps:0', dtype=torch.float16)\n",
      "X shape: torch.Size([3, 4])\n",
      "X rank: 2\n",
      "X dtype: torch.float16\n",
      "X device: mps:0\n"
     ]
    }
   ],
   "source": [
    "X = torch.rand(3, 4, device=device, dtype=torch.float16)\n",
    "print(f\"X: {X}\")\n",
    "print(f\"X shape: {X.shape}\")  # os use X.size()\n",
    "print(f\"X rank: {X.ndim}\")\n",
    "print(f\"X dtype: {X.dtype}\")\n",
    "print(f\"X device: {X.device}\")"
   ]
  },
  {
   "cell_type": "markdown",
   "metadata": {},
   "source": [
    "## Tensor Operations\n",
    "\n",
    "These include:\n",
    "* Addition\n",
    "* Subtraction\n",
    "* Multiplication (element-wise)\n",
    "* Division\n",
    "* Matrix Multiplication (dot product)"
   ]
  },
  {
   "cell_type": "code",
   "execution_count": 49,
   "metadata": {},
   "outputs": [
    {
     "name": "stdout",
     "output_type": "stream",
     "text": [
      "T2: tensor([11, 12, 13])\n",
      "T3: tensor([10, 20, 30])\n",
      "T4: tensor([-9, -8, -7])\n",
      "T5: tensor([0.1000, 0.2000, 0.3000])\n",
      "C: tensor([[ 58,  64],\n",
      "        [139, 154]])\n",
      "D: tensor([[10, 20, 30],\n",
      "        [40, 50, 60]])\n"
     ]
    }
   ],
   "source": [
    "T1 = torch.tensor([1, 2, 3])\n",
    "\n",
    "# Add 10 to everything\n",
    "T2 = T1 + 10  # or T1.add(10)\n",
    "print(f\"T2: {T2}\")\n",
    "\n",
    "# Multiply everything by 10\n",
    "T3 = T1 * 10  # or T1.mul(10)\n",
    "print(f\"T3: {T3}\")\n",
    "\n",
    "# Subtract 10 from everything\n",
    "T4 = T1 - 10  # or T1.sub(10)\n",
    "print(f\"T4: {T4}\")\n",
    "\n",
    "# Divide everything by 10\n",
    "T5 = T1 / 10  # or T1.div(10)\n",
    "print(f\"T5: {T5}\")\n",
    "\n",
    "# Matrix multiplication\n",
    "A = torch.tensor([[1, 2, 3], [4, 5, 6]])\n",
    "B = torch.tensor([[7, 8], [9, 10], [11, 12]])\n",
    "C = A @ B  # or torch.matmul(A,B) or torch.mm(A,B)\n",
    "print(f\"C: {C}\")\n",
    "\n",
    "# Element-wise multiplication\n",
    "A = torch.tensor([[1, 2, 3], [4, 5, 6]])\n",
    "B = torch.ones_like(A) * 10\n",
    "D = A * B\n",
    "print(f\"D: {D}\")"
   ]
  },
  {
   "cell_type": "markdown",
   "metadata": {},
   "source": [
    "### Transpose"
   ]
  },
  {
   "cell_type": "code",
   "execution_count": 50,
   "metadata": {},
   "outputs": [
    {
     "name": "stdout",
     "output_type": "stream",
     "text": [
      "A: tensor([[1, 2, 3],\n",
      "        [4, 5, 6]]) with shape: torch.Size([2, 3])\n",
      "At: tensor([[1, 4],\n",
      "        [2, 5],\n",
      "        [3, 6]]) with shape torch.Size([3, 2])\n"
     ]
    }
   ],
   "source": [
    "# Transpose\n",
    "A = torch.tensor([[1, 2, 3], [4, 5, 6]])\n",
    "At = A.T\n",
    "\n",
    "print(f\"A: {A} with shape: {A.shape}\")\n",
    "print(f\"At: {At} with shape {At.shape}\")"
   ]
  },
  {
   "cell_type": "markdown",
   "metadata": {},
   "source": [
    "### Agrregation (Sum, Mean, Max, Min, etc)"
   ]
  },
  {
   "cell_type": "code",
   "execution_count": 51,
   "metadata": {},
   "outputs": [
    {
     "name": "stdout",
     "output_type": "stream",
     "text": [
      "Min: 0\n",
      "Idx of min: 0\n",
      "Max: 90\n",
      "Idx of max: 9\n",
      "Mean: 45.0\n",
      "Sum of all elements: 450\n"
     ]
    }
   ],
   "source": [
    "T = torch.arange(0, 100, 10)\n",
    "\n",
    "print(f\"Min: {T.min()}\")  # or torch.min(T)\n",
    "print(f\"Idx of min: {T.argmin()}\")  # or torch.argmin(T)\n",
    "print(f\"Max: {T.max()}\")  # or torch.max(T)\n",
    "print(f\"Idx of max: {T.argmax()}\")  # or torch.argmax(T)\n",
    "print(\n",
    "    f\"Mean: {torch.mean(T.type(torch.float32))}\"\n",
    ")  # Requires float input so we convert it\n",
    "print(f\"Sum of all elements: {torch.sum(T)}\")  # or T.sum()"
   ]
  },
  {
   "cell_type": "markdown",
   "metadata": {},
   "source": [
    "## Reshaping, Stacking and Squeezing\n",
    "\n",
    "* Reshaping - Changing the shape of a tensor (number of elements remains the same)\n",
    "* View - Return a view of a tensor. It is a different way of looking at the same data. Shares memory with the original tensor.\n",
    "* Stacking - Join a sequence of tensors along a new dimension.\n",
    "* Squeezing - Remove single-dimensional entries from the shape of a tensor. Returns a tensor with the same data as the input tensor but with fewer dimensions.\n",
    "* Unsqueeze - Add a dimension of 1 to the shape of a tensor. Returns a new tensor with a dimension of size one inserted at the specified position.\n",
    "* Permutation - Permute the dimensions of a tensor."
   ]
  },
  {
   "cell_type": "code",
   "execution_count": 52,
   "metadata": {},
   "outputs": [
    {
     "name": "stdout",
     "output_type": "stream",
     "text": [
      "Tensor: tensor([0, 1, 2, 3, 4, 5, 6, 7, 8, 9])\n",
      "Tensor shape: torch.Size([10])\n",
      "Reshaped tensor: tensor([[0, 1],\n",
      "        [2, 3],\n",
      "        [4, 5],\n",
      "        [6, 7],\n",
      "        [8, 9]])\n",
      "Viewed tensor: tensor([[0],\n",
      "        [1],\n",
      "        [2],\n",
      "        [3],\n",
      "        [4],\n",
      "        [5],\n",
      "        [6],\n",
      "        [7],\n",
      "        [8],\n",
      "        [9]])\n",
      "Original tensor: tensor([100,   1,   2,   3,   4,   5,   6,   7,   8,   9])\n"
     ]
    }
   ],
   "source": [
    "T = torch.arange(0, 10)\n",
    "print(f\"Tensor: {T}\")\n",
    "print(f\"Tensor shape: {T.shape}\")\n",
    "\n",
    "# Reshape to (1,10)\n",
    "T_reshaped = T.reshape(5, 2)\n",
    "print(f\"Reshaped tensor: {T_reshaped}\")\n",
    "\n",
    "# View\n",
    "T_view = T.view(10, 1)  # similar to reshape but it doesn't copy the data.\n",
    "print(f\"Viewed tensor: {T_view}\")\n",
    "# changing the view will change the original tensor\n",
    "T_view[0] = 100\n",
    "print(f\"Original tensor: {T}\")"
   ]
  },
  {
   "cell_type": "code",
   "execution_count": 53,
   "metadata": {},
   "outputs": [
    {
     "name": "stdout",
     "output_type": "stream",
     "text": [
      "Stacked tensor: tensor([[1, 2, 3],\n",
      "        [4, 5, 6],\n",
      "        [7, 8, 9]])\n",
      "Stacked tensor: tensor([[1, 4, 7],\n",
      "        [2, 5, 8],\n",
      "        [3, 6, 9]])\n"
     ]
    }
   ],
   "source": [
    "# Stack\n",
    "A = torch.tensor([1, 2, 3])\n",
    "B = torch.tensor([4, 5, 6])\n",
    "C = torch.tensor([7, 8, 9])\n",
    "\n",
    "D = torch.stack([A, B, C])\n",
    "E = torch.stack([A, B, C], dim=1)\n",
    "print(f\"Stacked tensor: {D}\")\n",
    "print(f\"Stacked tensor: {E}\")"
   ]
  },
  {
   "cell_type": "code",
   "execution_count": 54,
   "metadata": {},
   "outputs": [
    {
     "name": "stdout",
     "output_type": "stream",
     "text": [
      "Tensor: tensor([[[[1, 2, 3],\n",
      "          [4, 5, 6]]]])\n",
      "Tensor shape: torch.Size([1, 1, 2, 3])\n",
      "Squeezed tensor: tensor([[1, 2, 3],\n",
      "        [4, 5, 6]])\n",
      "Squeezed tensor shape: torch.Size([2, 3])\n"
     ]
    }
   ],
   "source": [
    "# Squeeze\n",
    "T = torch.tensor([[[[1, 2, 3], [4, 5, 6]]]])\n",
    "print(f\"Tensor: {T}\")\n",
    "print(f\"Tensor shape: {T.shape}\")\n",
    "\n",
    "T_squeezed = T.squeeze()\n",
    "print(f\"Squeezed tensor: {T_squeezed}\")\n",
    "print(f\"Squeezed tensor shape: {T_squeezed.shape}\")"
   ]
  },
  {
   "cell_type": "code",
   "execution_count": 55,
   "metadata": {},
   "outputs": [
    {
     "name": "stdout",
     "output_type": "stream",
     "text": [
      "Unsqueezed tensor: tensor([[[1, 2, 3]],\n",
      "\n",
      "        [[4, 5, 6]]])\n",
      "Unsqueezed tensor shape: torch.Size([2, 1, 3])\n"
     ]
    }
   ],
   "source": [
    "# Unsqueeze\n",
    "T_unsqueezed = T_squeezed.unsqueeze(dim=1)\n",
    "print(f\"Unsqueezed tensor: {T_unsqueezed}\")\n",
    "print(f\"Unsqueezed tensor shape: {T_unsqueezed.shape}\")"
   ]
  },
  {
   "cell_type": "markdown",
   "metadata": {},
   "source": [
    "## PyTorch and NumPy"
   ]
  },
  {
   "cell_type": "code",
   "execution_count": 56,
   "metadata": {},
   "outputs": [
    {
     "name": "stdout",
     "output_type": "stream",
     "text": [
      "Tensor: tensor([1, 2, 3])\n",
      "Tensor shape: torch.Size([3])\n",
      "Tensor type: <class 'torch.Tensor'>\n",
      "Numpy: [1 2 3]\n",
      "Numpy shape: (3,)\n",
      "Numpy type: <class 'numpy.ndarray'>\n"
     ]
    }
   ],
   "source": [
    "# Convert to numpy\n",
    "T = torch.tensor([1, 2, 3])\n",
    "T_numpy = T.numpy()  # Copies the data\n",
    "\n",
    "print(f\"Tensor: {T}\")\n",
    "print(f\"Tensor shape: {T.shape}\")\n",
    "print(f\"Tensor type: {type(T)}\")\n",
    "\n",
    "print(f\"Numpy: {T_numpy}\")\n",
    "print(f\"Numpy shape: {T_numpy.shape}\")\n",
    "print(f\"Numpy type: {type(T_numpy)}\")"
   ]
  },
  {
   "cell_type": "code",
   "execution_count": 57,
   "metadata": {},
   "outputs": [
    {
     "name": "stdout",
     "output_type": "stream",
     "text": [
      "Tensor: tensor([1, 2, 3])\n",
      "Tensor shape: torch.Size([3])\n",
      "Tensor type: <class 'torch.Tensor'>\n"
     ]
    }
   ],
   "source": [
    "# Convert to tensor\n",
    "T = torch.from_numpy(T_numpy)  # Copies the data\n",
    "print(f\"Tensor: {T}\")\n",
    "print(f\"Tensor shape: {T.shape}\")\n",
    "print(f\"Tensor type: {type(T)}\")"
   ]
  },
  {
   "cell_type": "markdown",
   "metadata": {},
   "source": [
    "## Reproducibility"
   ]
  },
  {
   "cell_type": "code",
   "execution_count": 67,
   "metadata": {},
   "outputs": [
    {
     "name": "stdout",
     "output_type": "stream",
     "text": [
      "Tensor: tensor([[0.8823, 0.9150, 0.3829, 0.9593],\n",
      "        [0.3904, 0.6009, 0.2566, 0.7936],\n",
      "        [0.9408, 0.1332, 0.9346, 0.5936]])\n"
     ]
    }
   ],
   "source": [
    "# Set random seed\n",
    "\n",
    "seed = 42\n",
    "torch.manual_seed(seed)\n",
    "# gpu random seed\n",
    "if torch.cuda.is_available():\n",
    "    torch.cuda.manual_seed_all(seed)\n",
    "np.random.seed(seed)\n",
    "\n",
    "# Create a random tensor\n",
    "T = torch.rand(3, 4)\n",
    "print(f\"Tensor: {T}\")"
   ]
  },
  {
   "cell_type": "markdown",
   "metadata": {},
   "source": [
    "## GPU Support"
   ]
  },
  {
   "cell_type": "code",
   "execution_count": 65,
   "metadata": {},
   "outputs": [
    {
     "name": "stdout",
     "output_type": "stream",
     "text": [
      "Tensor: tensor([[0.9811, 0.0874, 0.0041, 0.1088],\n",
      "        [0.1637, 0.7025, 0.6790, 0.9155],\n",
      "        [0.2418, 0.1591, 0.7653, 0.2979]], device='mps:0')\n",
      "Tensor: [[0.98112535 0.08736187 0.00406194 0.10881811]\n",
      " [0.16365546 0.7025201  0.6790379  0.9154622 ]\n",
      " [0.24178731 0.1591441  0.76528907 0.29789776]]\n"
     ]
    }
   ],
   "source": [
    "# Use device agnostic code\n",
    "device = \"cuda\" if torch.cuda.is_available() else \"cpu\"\n",
    "device = \"mps\" if torch.backends.mps.is_available() else device  # for Apple Silicon\n",
    "\n",
    "# Create a random tensor on the specified device\n",
    "T = torch.rand(3, 4)  # default device is cpu\n",
    "T = T.to(device)  # move to device\n",
    "print(f\"Tensor: {T}\")\n",
    "\n",
    "# Tensors cant be converted to numpy if they are on the gpu\n",
    "try:\n",
    "    T_np = T.numpy()  # Move tensor to numpy\n",
    "except Exception as e:\n",
    "    pass\n",
    "\n",
    "# Move tensor to cpu first instead\n",
    "T = T.cpu().numpy()\n",
    "print(f\"Tensor: {T}\")"
   ]
  }
 ],
 "metadata": {
  "kernelspec": {
   "display_name": "venv",
   "language": "python",
   "name": "python3"
  },
  "language_info": {
   "codemirror_mode": {
    "name": "ipython",
    "version": 3
   },
   "file_extension": ".py",
   "mimetype": "text/x-python",
   "name": "python",
   "nbconvert_exporter": "python",
   "pygments_lexer": "ipython3",
   "version": "3.11.4"
  }
 },
 "nbformat": 4,
 "nbformat_minor": 2
}
