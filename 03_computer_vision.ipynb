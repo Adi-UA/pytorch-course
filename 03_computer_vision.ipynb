{
 "cells": [
  {
   "cell_type": "markdown",
   "metadata": {},
   "source": [
    "Notebook\n",
    "https://www.learnpytorch.io/03_pytorch_computer_vision/ "
   ]
  },
  {
   "cell_type": "markdown",
   "metadata": {},
   "source": [
    "## 0. Setup"
   ]
  },
  {
   "cell_type": "code",
   "execution_count": 2,
   "metadata": {},
   "outputs": [
    {
     "name": "stdout",
     "output_type": "stream",
     "text": [
      "Requirement already satisfied: torch in ./venv/lib/python3.11/site-packages (2.1.1)\n",
      "Requirement already satisfied: torchvision in ./venv/lib/python3.11/site-packages (0.16.1)\n",
      "Requirement already satisfied: torchaudio in ./venv/lib/python3.11/site-packages (2.1.1)\n",
      "Requirement already satisfied: torchmetrics in ./venv/lib/python3.11/site-packages (1.2.0)\n",
      "Requirement already satisfied: pandas in ./venv/lib/python3.11/site-packages (2.1.3)\n",
      "Requirement already satisfied: numpy in ./venv/lib/python3.11/site-packages (1.26.2)\n",
      "Requirement already satisfied: matplotlib in ./venv/lib/python3.11/site-packages (3.8.2)\n",
      "Requirement already satisfied: tqdm in ./venv/lib/python3.11/site-packages (4.66.1)\n",
      "Requirement already satisfied: scikit-learn in ./venv/lib/python3.11/site-packages (1.3.2)\n",
      "Requirement already satisfied: filelock in ./venv/lib/python3.11/site-packages (from torch) (3.13.1)\n",
      "Requirement already satisfied: typing-extensions in ./venv/lib/python3.11/site-packages (from torch) (4.8.0)\n",
      "Requirement already satisfied: sympy in ./venv/lib/python3.11/site-packages (from torch) (1.12)\n",
      "Requirement already satisfied: networkx in ./venv/lib/python3.11/site-packages (from torch) (3.2.1)\n",
      "Requirement already satisfied: jinja2 in ./venv/lib/python3.11/site-packages (from torch) (3.1.2)\n",
      "Requirement already satisfied: fsspec in ./venv/lib/python3.11/site-packages (from torch) (2023.10.0)\n",
      "Requirement already satisfied: requests in ./venv/lib/python3.11/site-packages (from torchvision) (2.31.0)\n",
      "Requirement already satisfied: pillow!=8.3.*,>=5.3.0 in ./venv/lib/python3.11/site-packages (from torchvision) (10.1.0)\n",
      "Requirement already satisfied: lightning-utilities>=0.8.0 in ./venv/lib/python3.11/site-packages (from torchmetrics) (0.10.0)\n",
      "Requirement already satisfied: python-dateutil>=2.8.2 in ./venv/lib/python3.11/site-packages (from pandas) (2.8.2)\n",
      "Requirement already satisfied: pytz>=2020.1 in ./venv/lib/python3.11/site-packages (from pandas) (2023.3.post1)\n",
      "Requirement already satisfied: tzdata>=2022.1 in ./venv/lib/python3.11/site-packages (from pandas) (2023.3)\n",
      "Requirement already satisfied: contourpy>=1.0.1 in ./venv/lib/python3.11/site-packages (from matplotlib) (1.2.0)\n",
      "Requirement already satisfied: cycler>=0.10 in ./venv/lib/python3.11/site-packages (from matplotlib) (0.12.1)\n",
      "Requirement already satisfied: fonttools>=4.22.0 in ./venv/lib/python3.11/site-packages (from matplotlib) (4.45.1)\n",
      "Requirement already satisfied: kiwisolver>=1.3.1 in ./venv/lib/python3.11/site-packages (from matplotlib) (1.4.5)\n",
      "Requirement already satisfied: packaging>=20.0 in ./venv/lib/python3.11/site-packages (from matplotlib) (23.2)\n",
      "Requirement already satisfied: pyparsing>=2.3.1 in ./venv/lib/python3.11/site-packages (from matplotlib) (3.1.1)\n",
      "Requirement already satisfied: scipy>=1.5.0 in ./venv/lib/python3.11/site-packages (from scikit-learn) (1.11.4)\n",
      "Requirement already satisfied: joblib>=1.1.1 in ./venv/lib/python3.11/site-packages (from scikit-learn) (1.3.2)\n",
      "Requirement already satisfied: threadpoolctl>=2.0.0 in ./venv/lib/python3.11/site-packages (from scikit-learn) (3.2.0)\n",
      "Requirement already satisfied: setuptools in ./venv/lib/python3.11/site-packages (from lightning-utilities>=0.8.0->torchmetrics) (65.5.0)\n",
      "Requirement already satisfied: six>=1.5 in ./venv/lib/python3.11/site-packages (from python-dateutil>=2.8.2->pandas) (1.16.0)\n",
      "Requirement already satisfied: MarkupSafe>=2.0 in ./venv/lib/python3.11/site-packages (from jinja2->torch) (2.1.3)\n",
      "Requirement already satisfied: charset-normalizer<4,>=2 in ./venv/lib/python3.11/site-packages (from requests->torchvision) (3.3.2)\n",
      "Requirement already satisfied: idna<4,>=2.5 in ./venv/lib/python3.11/site-packages (from requests->torchvision) (3.5)\n",
      "Requirement already satisfied: urllib3<3,>=1.21.1 in ./venv/lib/python3.11/site-packages (from requests->torchvision) (2.1.0)\n",
      "Requirement already satisfied: certifi>=2017.4.17 in ./venv/lib/python3.11/site-packages (from requests->torchvision) (2023.11.17)\n",
      "Requirement already satisfied: mpmath>=0.19 in ./venv/lib/python3.11/site-packages (from sympy->torch) (1.3.0)\n",
      "\n",
      "\u001b[1m[\u001b[0m\u001b[34;49mnotice\u001b[0m\u001b[1;39;49m]\u001b[0m\u001b[39;49m A new release of pip is available: \u001b[0m\u001b[31;49m23.1.2\u001b[0m\u001b[39;49m -> \u001b[0m\u001b[32;49m23.3.1\u001b[0m\n",
      "\u001b[1m[\u001b[0m\u001b[34;49mnotice\u001b[0m\u001b[1;39;49m]\u001b[0m\u001b[39;49m To update, run: \u001b[0m\u001b[32;49mpip install --upgrade pip\u001b[0m\n",
      "Note: you may need to restart the kernel to use updated packages.\n"
     ]
    }
   ],
   "source": [
    "%pip install torch torchvision torchaudio torchmetrics pandas numpy matplotlib tqdm scikit-learn;"
   ]
  },
  {
   "cell_type": "code",
   "execution_count": 3,
   "metadata": {},
   "outputs": [],
   "source": [
    "# Import torch\n",
    "import torch\n",
    "from torch import nn\n",
    "from torchvision import datasets\n",
    "from torchvision.transforms import ToTensor\n",
    "import numpy as np\n",
    "import seaborn as sns\n",
    "import matplotlib.pyplot as plt\n",
    "\n",
    "# Setup device agnostic code\n",
    "device = \"cuda\" if torch.cuda.is_available() else \"cpu\"\n",
    "device = \"mps\" if torch.backends.mps.is_available() else device\n",
    "\n",
    "\n",
    "# Setup random seed\n",
    "def seed_everything(seed=42):\n",
    "    np.random.seed(seed)\n",
    "    torch.manual_seed(seed)\n",
    "    torch.cuda.manual_seed_all(seed)\n",
    "    torch.backends.cudnn.deterministic = True\n",
    "\n",
    "\n",
    "seed_everything()"
   ]
  },
  {
   "cell_type": "markdown",
   "metadata": {},
   "source": [
    "## 1. Data\n",
    "\n",
    "We will use Fashion MNIST."
   ]
  },
  {
   "cell_type": "code",
   "execution_count": 4,
   "metadata": {},
   "outputs": [
    {
     "name": "stdout",
     "output_type": "stream",
     "text": [
      "Train data shape: torch.Size([60000, 28, 28])\n",
      "Test data shape: torch.Size([10000, 28, 28])\n"
     ]
    }
   ],
   "source": [
    "train_data = datasets.FashionMNIST(\n",
    "    root=\"data\",  # where to save the data\n",
    "    train=True,  # train or test set\n",
    "    download=True,  # download if not available locally\n",
    "    transform=ToTensor(),  # transform input images to tensors\n",
    "    target_transform=None,  # transform targets (we don't need this here)\n",
    ")\n",
    "\n",
    "test_data = datasets.FashionMNIST(\n",
    "    root=\"data\", train=False, download=True, transform=ToTensor()\n",
    ")\n",
    "\n",
    "print(f\"Train data shape: {train_data.data.shape}\")\n",
    "print(f\"Test data shape: {test_data.data.shape}\")"
   ]
  },
  {
   "cell_type": "markdown",
   "metadata": {},
   "source": [
    "### Check data shape"
   ]
  },
  {
   "cell_type": "code",
   "execution_count": 5,
   "metadata": {},
   "outputs": [
    {
     "name": "stdout",
     "output_type": "stream",
     "text": [
      "Classes: ['T-shirt/top', 'Trouser', 'Pullover', 'Dress', 'Coat', 'Sandal', 'Shirt', 'Sneaker', 'Bag', 'Ankle boot']\n",
      "Class to idx: {'T-shirt/top': 0, 'Trouser': 1, 'Pullover': 2, 'Dress': 3, 'Coat': 4, 'Sandal': 5, 'Shirt': 6, 'Sneaker': 7, 'Bag': 8, 'Ankle boot': 9}\n",
      "Sample image shape: torch.Size([1, 28, 28])\n",
      "Sample label: 9\n"
     ]
    }
   ],
   "source": [
    "classes = train_data.classes\n",
    "class_to_idx = train_data.class_to_idx\n",
    "sample_img, sample_label = train_data[0]\n",
    "\n",
    "print(f\"Classes: {classes}\")\n",
    "print(f\"Class to idx: {class_to_idx}\")\n",
    "print(f\"Sample image shape: {sample_img.shape}\")\n",
    "print(f\"Sample label: {sample_label}\")"
   ]
  },
  {
   "cell_type": "markdown",
   "metadata": {},
   "source": [
    "### Visualize data"
   ]
  },
  {
   "cell_type": "code",
   "execution_count": 6,
   "metadata": {},
   "outputs": [
    {
     "name": "stdout",
     "output_type": "stream",
     "text": [
      "[['Bag' 'Bag' 'Sneaker' 'Coat']\n",
      " ['Bag' 'Coat' 'Trouser' 'T-shirt/top']\n",
      " ['Coat' 'Sandal' 'Dress' 'Sneaker']\n",
      " ['Coat' 'Ankle boot' 'Coat' 'Trouser']]\n"
     ]
    },
    {
     "data": {
      "image/png": "[encoded data removed]",
      "text/plain": [
       "<Figure size 800x800 with 1 Axes>"
      ]
     },
     "metadata": {},
     "output_type": "display_data"
    }
   ],
   "source": [
    "from torchvision.utils import make_grid\n",
    "\n",
    "# 16 random indices\n",
    "n_samples = 16\n",
    "indices = np.random.choice(range(len(train_data)), n_samples, replace=False)\n",
    "img_samples, labels = train_data.data[indices], train_data.targets[indices]\n",
    "img_samples = img_samples.unsqueeze(1).float()\n",
    "labels = [classes[label] for label in labels]\n",
    "\n",
    "img_grid = torch.mean(make_grid(img_samples, nrow=4), dim=0)\n",
    "\n",
    "plt.figure(figsize=(8, 8))\n",
    "plt.imshow(img_grid, cmap=\"gray\")\n",
    "plt.axis(\"off\")\n",
    "\n",
    "# Print labels in grid\n",
    "labels = np.array(labels).reshape(4, 4)\n",
    "print(labels)"
   ]
  },
  {
   "cell_type": "markdown",
   "metadata": {},
   "source": [
    "## 2. Prepare Dataloader\n",
    "\n",
    "Instead of the PyTorch Datasets that our data is currently in, we want to use a PyTorch DataLoader. This is a PyTorch class that allows us to easily iterate over our data in batches. This is useful for memory management and for training our model. Modern hardware cannot handle all of our data at once, so we need to split it up into batches. We will use a batch size of 32."
   ]
  },
  {
   "cell_type": "code",
   "execution_count": 7,
   "metadata": {},
   "outputs": [
    {
     "name": "stdout",
     "output_type": "stream",
     "text": [
      "Train dataloader has 1875 batches\n",
      "Test dataloader has 313 batches\n"
     ]
    }
   ],
   "source": [
    "from torch.utils.data import DataLoader\n",
    "\n",
    "BATCH_SIZE = 32\n",
    "\n",
    "train_data_loader = DataLoader(train_data, batch_size=BATCH_SIZE, shuffle=True)\n",
    "test_data_loader = DataLoader(test_data, batch_size=BATCH_SIZE, shuffle=False)\n",
    "\n",
    "\n",
    "print(f\"Train dataloader has {len(train_data_loader)} batches\")\n",
    "print(f\"Test dataloader has {len(test_data_loader)} batches\")"
   ]
  },
  {
   "cell_type": "code",
   "execution_count": 8,
   "metadata": {},
   "outputs": [
    {
     "name": "stdout",
     "output_type": "stream",
     "text": [
      "Feature batch shape: torch.Size([32, 1, 28, 28])\n",
      "Labels batch shape: torch.Size([32])\n"
     ]
    }
   ],
   "source": [
    "train_features_batch, train_labels_batch = next(iter(train_data_loader))\n",
    "print(f\"Feature batch shape: {train_features_batch.size()}\")\n",
    "print(f\"Labels batch shape: {train_labels_batch.size()}\")"
   ]
  },
  {
   "cell_type": "markdown",
   "metadata": {},
   "source": [
    "## 3. Build Baseline Model"
   ]
  },
  {
   "cell_type": "code",
   "execution_count": 9,
   "metadata": {},
   "outputs": [
    {
     "name": "stdout",
     "output_type": "stream",
     "text": [
      "layer_stack.1.weight: torch.Size([12, 784])\n",
      "layer_stack.1.bias: torch.Size([12])\n",
      "layer_stack.3.weight: torch.Size([10, 12])\n",
      "layer_stack.3.bias: torch.Size([10])\n"
     ]
    }
   ],
   "source": [
    "class FasionMNISTModelV0(nn.Module):\n",
    "    def __init__(self):\n",
    "        super().__init__()\n",
    "        self.layer_stack = nn.Sequential(\n",
    "            nn.Flatten(),  # Flattens the height and width of the image\n",
    "            nn.Linear(in_features=28 * 28, out_features=12),\n",
    "            nn.ReLU(),\n",
    "            nn.Linear(in_features=12, out_features=len(classes)),\n",
    "        )\n",
    "\n",
    "    def forward(self, x):\n",
    "        return self.layer_stack(x)\n",
    "\n",
    "\n",
    "model = FasionMNISTModelV0().to(device)\n",
    "\n",
    "\n",
    "parameters = model.state_dict()\n",
    "for name, param in parameters.items():\n",
    "    print(f\"{name}: {param.size()}\")"
   ]
  },
  {
   "cell_type": "code",
   "execution_count": 10,
   "metadata": {},
   "outputs": [
    {
     "name": "stdout",
     "output_type": "stream",
     "text": [
      "One image shape: torch.Size([1, 28, 28])\n",
      "Batch shape: torch.Size([1, 1, 28, 28])\n",
      "Flattened shape: torch.Size([1, 784])\n",
      "Output shape: torch.Size([1, 10])\n"
     ]
    }
   ],
   "source": [
    "# Note\n",
    "img = train_features_batch[0].to(device)\n",
    "print(\"One image shape:\", img.shape)\n",
    "\n",
    "# In a batch size of 1, we have 1 image with 1 color channel and 28x28 pixels\n",
    "batch = img.unsqueeze(0)\n",
    "print(\"Batch shape:\", batch.shape)\n",
    "\n",
    "# Flatten will flatten the height and width of the image. Output is batch size x (1*28*28)\n",
    "flattened = nn.Flatten()(batch)\n",
    "print(\"Flattened shape:\", flattened.shape)\n",
    "\n",
    "# So in our model, the image is flattened and then the 784 inputs are passed to\n",
    "# the linear layer a usual. We get 10 outputs for each image in the batch\n",
    "output = model(batch)\n",
    "print(\"Output shape:\", output.shape)"
   ]
  },
  {
   "cell_type": "markdown",
   "metadata": {},
   "source": [
    "## 4. Train Model"
   ]
  },
  {
   "cell_type": "markdown",
   "metadata": {},
   "source": [
    "### Create some accuracy and timing metrics"
   ]
  },
  {
   "cell_type": "code",
   "execution_count": 11,
   "metadata": {},
   "outputs": [],
   "source": [
    "from torchmetrics import Accuracy\n",
    "\n",
    "loss_fn = nn.CrossEntropyLoss()\n",
    "optimizer = torch.optim.Adam(model.parameters(), lr=0.01)\n",
    "acc_fn = Accuracy(task=\"multiclass\", num_classes=len(classes)).to(device)\n",
    "\n",
    "\n",
    "def print_time(start, end, device):\n",
    "    total_time = end - start\n",
    "    print(f\"Time: {(total_time):.2f} seconds on {device}\")\n",
    "    return total_time"
   ]
  },
  {
   "cell_type": "markdown",
   "metadata": {},
   "source": [
    "### Training loop"
   ]
  },
  {
   "cell_type": "code",
   "execution_count": 12,
   "metadata": {},
   "outputs": [
    {
     "name": "stderr",
     "output_type": "stream",
     "text": [
      "  0%|          | 0/4 [00:00<?, ?it/s]"
     ]
    },
    {
     "name": "stdout",
     "output_type": "stream",
     "text": [
      "Epoch 1\n",
      "------------------------------\n",
      "Completed 0/60000 training examples\n",
      "Completed 12800/60000 training examples\n",
      "Completed 25600/60000 training examples\n",
      "Completed 38400/60000 training examples\n",
      "Completed 51200/60000 training examples\n"
     ]
    },
    {
     "name": "stderr",
     "output_type": "stream",
     "text": [
      " 25%|██▌       | 1/4 [00:07<00:21,  7.26s/it]"
     ]
    },
    {
     "name": "stdout",
     "output_type": "stream",
     "text": [
      "Training loss: 0.594, Test loss: 0.549, Test accuracy: 80.471 %\n",
      "------------------------------\n",
      "Epoch 2\n",
      "------------------------------\n",
      "Completed 0/60000 training examples\n",
      "Completed 12800/60000 training examples\n",
      "Completed 25600/60000 training examples\n",
      "Completed 38400/60000 training examples\n",
      "Completed 51200/60000 training examples\n"
     ]
    },
    {
     "name": "stderr",
     "output_type": "stream",
     "text": [
      " 50%|█████     | 2/4 [00:14<00:14,  7.11s/it]"
     ]
    },
    {
     "name": "stdout",
     "output_type": "stream",
     "text": [
      "Training loss: 0.495, Test loss: 0.527, Test accuracy: 80.970 %\n",
      "------------------------------\n",
      "Epoch 3\n",
      "------------------------------\n",
      "Completed 0/60000 training examples\n",
      "Completed 12800/60000 training examples\n",
      "Completed 25600/60000 training examples\n",
      "Completed 38400/60000 training examples\n",
      "Completed 51200/60000 training examples\n"
     ]
    },
    {
     "name": "stderr",
     "output_type": "stream",
     "text": [
      " 75%|███████▌  | 3/4 [00:21<00:06,  6.98s/it]"
     ]
    },
    {
     "name": "stdout",
     "output_type": "stream",
     "text": [
      "Training loss: 0.476, Test loss: 0.528, Test accuracy: 81.869 %\n",
      "------------------------------\n",
      "Epoch 4\n",
      "------------------------------\n",
      "Completed 0/60000 training examples\n",
      "Completed 12800/60000 training examples\n",
      "Completed 25600/60000 training examples\n",
      "Completed 38400/60000 training examples\n",
      "Completed 51200/60000 training examples\n"
     ]
    },
    {
     "name": "stderr",
     "output_type": "stream",
     "text": [
      "100%|██████████| 4/4 [00:28<00:00,  7.03s/it]"
     ]
    },
    {
     "name": "stdout",
     "output_type": "stream",
     "text": [
      "Training loss: 0.466, Test loss: 0.476, Test accuracy: 83.596 %\n",
      "------------------------------\n",
      "Time: 28.15 seconds on mps\n"
     ]
    },
    {
     "name": "stderr",
     "output_type": "stream",
     "text": [
      "\n"
     ]
    },
    {
     "data": {
      "text/plain": [
       "28.148671707996982"
      ]
     },
     "execution_count": 12,
     "metadata": {},
     "output_type": "execute_result"
    }
   ],
   "source": [
    "import time\n",
    "from tqdm import tqdm\n",
    "\n",
    "start_time = time.perf_counter()\n",
    "epochs = 4\n",
    "\n",
    "for epoch in tqdm(range(epochs)):\n",
    "    print(f\"Epoch {epoch+1}\")\n",
    "    print(\"-\" * 30)\n",
    "\n",
    "    train_loss = 0\n",
    "    for batch, (X, Y) in enumerate(train_data_loader):\n",
    "        X, Y = X.to(device), Y.to(device)\n",
    "\n",
    "        model.train()\n",
    "\n",
    "        Y_hat = model(X)\n",
    "\n",
    "        loss = loss_fn(Y_hat, Y)\n",
    "\n",
    "        train_loss += loss.item()\n",
    "\n",
    "        optimizer.zero_grad()\n",
    "\n",
    "        loss.backward()\n",
    "\n",
    "        optimizer.step()\n",
    "\n",
    "        if batch % 400 == 0:\n",
    "            completed = batch * len(X)\n",
    "            total = len(train_data_loader.dataset)\n",
    "            print(f\"Completed {completed}/{total} training examples\")\n",
    "\n",
    "    train_loss /= len(train_data_loader)\n",
    "\n",
    "    model.eval()\n",
    "    with torch.inference_mode():\n",
    "        test_loss, test_acc = 0, 0\n",
    "        for X, Y in test_data_loader:\n",
    "            X, Y = X.to(device), Y.to(device)\n",
    "\n",
    "            Y_test_hat = model(X)\n",
    "\n",
    "            test_loss += loss_fn(Y_test_hat, Y).item()\n",
    "            test_acc += acc_fn(Y_test_hat, Y).item()\n",
    "\n",
    "        test_loss /= len(test_data_loader)\n",
    "        test_acc /= len(test_data_loader)\n",
    "        test_acc *= 100\n",
    "\n",
    "    print(\n",
    "        f\"Training loss: {train_loss:.3f}, Test loss: {test_loss:.3f}, Test accuracy: {test_acc:.3f} %\"\n",
    "    )\n",
    "    print(\"-\" * 30)\n",
    "\n",
    "end = time.perf_counter()\n",
    "print_time(start_time, end, device)"
   ]
  },
  {
   "cell_type": "markdown",
   "metadata": {},
   "source": [
    "## 5. Evaluate Model"
   ]
  },
  {
   "cell_type": "code",
   "execution_count": 13,
   "metadata": {},
   "outputs": [
    {
     "name": "stderr",
     "output_type": "stream",
     "text": [
      "100%|██████████| 313/313 [00:01<00:00, 306.34it/s]\n"
     ]
    },
    {
     "data": {
      "text/plain": [
       "{'model': 'FasionMNISTModelV0',\n",
       " 'loss': tensor(0.4756, device='mps:0'),\n",
       " 'accuracy': tensor(0.8360, device='mps:0')}"
      ]
     },
     "execution_count": 13,
     "metadata": {},
     "output_type": "execute_result"
    }
   ],
   "source": [
    "def evaluate_model(model, dataloader, loss_fn, accuracy_fn):\n",
    "    model.eval()\n",
    "    with torch.inference_mode():\n",
    "        loss, acc = 0, 0\n",
    "        for X, Y in tqdm(dataloader):\n",
    "            X, Y = X.to(device), Y.to(device)\n",
    "            Y_pred = model(X)\n",
    "\n",
    "            loss += loss_fn(Y_pred, Y)\n",
    "            acc += accuracy_fn(Y_pred, Y)\n",
    "\n",
    "        loss /= len(dataloader)\n",
    "        acc /= len(dataloader)\n",
    "    return {\"model\": model.__class__.__name__, \"loss\": loss, \"accuracy\": acc}\n",
    "\n",
    "\n",
    "evaluate_model(model, test_data_loader, loss_fn, acc_fn)"
   ]
  },
  {
   "cell_type": "markdown",
   "metadata": {},
   "source": [
    "## 6. Funcitonize"
   ]
  },
  {
   "cell_type": "code",
   "execution_count": 14,
   "metadata": {},
   "outputs": [],
   "source": [
    "def test_step(model, dataloader, loss_fn, accuracy_fn, device):\n",
    "    start_time = time.perf_counter()\n",
    "    model.to(device)\n",
    "    acc_fn.to(device)\n",
    "    model.eval()\n",
    "    with torch.inference_mode():\n",
    "        loss, acc = 0, 0\n",
    "        for X_test, Y_test in tqdm(dataloader):\n",
    "            X_test.to(device), Y_test.to(device)\n",
    "            Y_pred = model(X)\n",
    "\n",
    "            loss += loss_fn(Y_pred, Y)\n",
    "            acc += accuracy_fn(Y_pred, Y)\n",
    "\n",
    "        loss /= len(dataloader)\n",
    "        acc = acc / len(dataloader) * 100\n",
    "        print(f\"Test loss: {loss:.3f}, Test accuracy: {acc:.3f} %\")\n",
    "    end_time = time.perf_counter()\n",
    "    print_time(start_time, end_time, device)\n",
    "\n",
    "\n",
    "def train_step(model, dataloader, epochs, loss_fn, optimizer, accuracy_fn, device):\n",
    "    start_time = time.perf_counter()\n",
    "    model.to(device)\n",
    "    acc_fn.to(device)\n",
    "    for epoch in tqdm(range(epochs)):\n",
    "        print(f\"Epoch {epoch+1}\")\n",
    "        print(\"-\" * 30)\n",
    "        train_loss, train_acc = 0, 0\n",
    "        for X_train, Y_train in dataloader:\n",
    "            X_train, Y_train = X_train.to(device), Y_train.to(device)\n",
    "\n",
    "            model.train()\n",
    "            Y_pred = model(X_train)\n",
    "\n",
    "            batch_loss = loss_fn(Y_pred, Y_train)\n",
    "            train_loss += batch_loss\n",
    "            train_acc += accuracy_fn(Y_pred, Y_train)\n",
    "\n",
    "            optimizer.zero_grad()\n",
    "            batch_loss.backward()\n",
    "            optimizer.step()\n",
    "\n",
    "        train_loss /= len(dataloader)\n",
    "        train_acc = train_acc / len(dataloader) * 100\n",
    "        print(f\"Training loss: {train_loss:.3f}, Training accuracy: {train_acc:.3f} %\")\n",
    "        print(\"-\" * 30)\n",
    "    end_time = time.perf_counter()\n",
    "    print_time(start_time, end_time, device)"
   ]
  },
  {
   "cell_type": "code",
   "execution_count": 15,
   "metadata": {},
   "outputs": [
    {
     "name": "stderr",
     "output_type": "stream",
     "text": [
      "  0%|          | 0/4 [00:00<?, ?it/s]"
     ]
    },
    {
     "name": "stdout",
     "output_type": "stream",
     "text": [
      "Epoch 1\n",
      "------------------------------\n"
     ]
    },
    {
     "name": "stderr",
     "output_type": "stream",
     "text": [
      " 25%|██▌       | 1/4 [00:10<00:30, 10.16s/it]"
     ]
    },
    {
     "name": "stdout",
     "output_type": "stream",
     "text": [
      "Training loss: 0.654, Training accuracy: 76.122 %\n",
      "------------------------------\n",
      "Epoch 2\n",
      "------------------------------\n"
     ]
    },
    {
     "name": "stderr",
     "output_type": "stream",
     "text": [
      " 50%|█████     | 2/4 [00:20<00:20, 10.01s/it]"
     ]
    },
    {
     "name": "stdout",
     "output_type": "stream",
     "text": [
      "Training loss: 0.565, Training accuracy: 79.950 %\n",
      "------------------------------\n",
      "Epoch 3\n",
      "------------------------------\n"
     ]
    },
    {
     "name": "stderr",
     "output_type": "stream",
     "text": [
      " 75%|███████▌  | 3/4 [00:30<00:10, 10.06s/it]"
     ]
    },
    {
     "name": "stdout",
     "output_type": "stream",
     "text": [
      "Training loss: 0.550, Training accuracy: 80.708 %\n",
      "------------------------------\n",
      "Epoch 4\n",
      "------------------------------\n"
     ]
    },
    {
     "name": "stderr",
     "output_type": "stream",
     "text": [
      "100%|██████████| 4/4 [00:39<00:00,  9.93s/it]\n"
     ]
    },
    {
     "name": "stdout",
     "output_type": "stream",
     "text": [
      "Training loss: 0.545, Training accuracy: 81.150 %\n",
      "------------------------------\n",
      "Time: 39.74 seconds on mps\n"
     ]
    },
    {
     "name": "stderr",
     "output_type": "stream",
     "text": [
      "100%|██████████| 313/313 [00:01<00:00, 293.92it/s]"
     ]
    },
    {
     "name": "stdout",
     "output_type": "stream",
     "text": [
      "Test loss: 0.354, Test accuracy: 87.500 %\n",
      "Time: 1.07 seconds on mps\n"
     ]
    },
    {
     "name": "stderr",
     "output_type": "stream",
     "text": [
      "\n"
     ]
    }
   ],
   "source": [
    "seed_everything()\n",
    "model = FasionMNISTModelV0()\n",
    "loss_fn = nn.CrossEntropyLoss()\n",
    "acc_fn = Accuracy(task=\"multiclass\", num_classes=len(classes))\n",
    "optimizer = torch.optim.Adam(model.parameters(), lr=0.01)\n",
    "\n",
    "train_step(model, train_data_loader, 4, loss_fn, optimizer, acc_fn, device)\n",
    "test_step(model, test_data_loader, loss_fn, acc_fn, device)"
   ]
  },
  {
   "cell_type": "markdown",
   "metadata": {},
   "source": [
    "## 7. Building a better model (with a CNN)"
   ]
  },
  {
   "cell_type": "code",
   "execution_count": 16,
   "metadata": {},
   "outputs": [],
   "source": [
    "class FashionMNIST(nn.Module):\n",
    "    def __init__(self, input_size, hidden_size, output_size):\n",
    "        super().__init__()\n",
    "        self.conv_block_1 = nn.Sequential(\n",
    "            nn.Conv2d(\n",
    "                in_channels=input_size,\n",
    "                out_channels=hidden_size,\n",
    "                kernel_size=3,\n",
    "                stride=1,\n",
    "                padding=1,\n",
    "            ),\n",
    "            nn.ReLU(),\n",
    "            nn.Conv2d(\n",
    "                in_channels=hidden_size,\n",
    "                out_channels=hidden_size,\n",
    "                kernel_size=3,\n",
    "                stride=1,\n",
    "                padding=1,\n",
    "            ),\n",
    "            nn.ReLU(),\n",
    "            nn.MaxPool2d(kernel_size=2),\n",
    "        )\n",
    "        self.conv_block_2 = nn.Sequential(\n",
    "            nn.Conv2d(\n",
    "                in_channels=hidden_size,\n",
    "                out_channels=hidden_size,\n",
    "                kernel_size=3,\n",
    "                stride=1,\n",
    "                padding=1,\n",
    "            ),\n",
    "            nn.ReLU(),\n",
    "            nn.Conv2d(\n",
    "                in_channels=hidden_size,\n",
    "                out_channels=hidden_size,\n",
    "                kernel_size=3,\n",
    "                stride=1,\n",
    "                padding=1,\n",
    "            ),\n",
    "            nn.ReLU(),\n",
    "            nn.MaxPool2d(kernel_size=2),\n",
    "        )\n",
    "        self.classifier = nn.Sequential(\n",
    "            nn.Flatten(),\n",
    "            nn.Linear(in_features=hidden_size * 7 * 7, out_features=output_size),\n",
    "        )\n",
    "\n",
    "    def forward(self, x):\n",
    "        x = self.conv_block_1(x)\n",
    "        x = self.conv_block_2(x)\n",
    "        y = self.classifier(x)\n",
    "        return y"
   ]
  },
  {
   "cell_type": "code",
   "execution_count": 17,
   "metadata": {},
   "outputs": [
    {
     "name": "stdout",
     "output_type": "stream",
     "text": [
      "conv_block_1.0.weight: torch.Size([10, 1, 3, 3])\n",
      "conv_block_1.0.bias: torch.Size([10])\n",
      "conv_block_1.2.weight: torch.Size([10, 10, 3, 3])\n",
      "conv_block_1.2.bias: torch.Size([10])\n",
      "conv_block_2.0.weight: torch.Size([10, 10, 3, 3])\n",
      "conv_block_2.0.bias: torch.Size([10])\n",
      "conv_block_2.2.weight: torch.Size([10, 10, 3, 3])\n",
      "conv_block_2.2.bias: torch.Size([10])\n",
      "classifier.1.weight: torch.Size([10, 490])\n",
      "classifier.1.bias: torch.Size([10])\n"
     ]
    }
   ],
   "source": [
    "model = FashionMNIST(input_size=1, hidden_size=10, output_size=len(classes)).to(device)\n",
    "\n",
    "parameters = model.state_dict()\n",
    "for name, param in parameters.items():\n",
    "    print(f\"{name}: {param.size()}\")"
   ]
  },
  {
   "cell_type": "markdown",
   "metadata": {},
   "source": [
    "## 8. Train better model"
   ]
  },
  {
   "cell_type": "code",
   "execution_count": 18,
   "metadata": {},
   "outputs": [
    {
     "name": "stderr",
     "output_type": "stream",
     "text": [
      "  0%|          | 0/10 [00:00<?, ?it/s]"
     ]
    },
    {
     "name": "stdout",
     "output_type": "stream",
     "text": [
      "Epoch 1\n",
      "------------------------------\n"
     ]
    },
    {
     "name": "stderr",
     "output_type": "stream",
     "text": [
      " 10%|█         | 1/10 [00:15<02:20, 15.56s/it]"
     ]
    },
    {
     "name": "stdout",
     "output_type": "stream",
     "text": [
      "Training loss: 0.456, Training accuracy: 83.313 %\n",
      "------------------------------\n",
      "Epoch 2\n",
      "------------------------------\n"
     ]
    },
    {
     "name": "stderr",
     "output_type": "stream",
     "text": [
      " 20%|██        | 2/10 [00:31<02:03, 15.50s/it]"
     ]
    },
    {
     "name": "stdout",
     "output_type": "stream",
     "text": [
      "Training loss: 0.354, Training accuracy: 86.965 %\n",
      "------------------------------\n",
      "Epoch 3\n",
      "------------------------------\n"
     ]
    },
    {
     "name": "stderr",
     "output_type": "stream",
     "text": [
      " 30%|███       | 3/10 [00:46<01:48, 15.44s/it]"
     ]
    },
    {
     "name": "stdout",
     "output_type": "stream",
     "text": [
      "Training loss: 0.338, Training accuracy: 87.665 %\n",
      "------------------------------\n",
      "Epoch 4\n",
      "------------------------------\n"
     ]
    },
    {
     "name": "stderr",
     "output_type": "stream",
     "text": [
      " 40%|████      | 4/10 [01:01<01:32, 15.39s/it]"
     ]
    },
    {
     "name": "stdout",
     "output_type": "stream",
     "text": [
      "Training loss: 0.333, Training accuracy: 87.808 %\n",
      "------------------------------\n",
      "Epoch 5\n",
      "------------------------------\n"
     ]
    },
    {
     "name": "stderr",
     "output_type": "stream",
     "text": [
      " 50%|█████     | 5/10 [01:17<01:16, 15.37s/it]"
     ]
    },
    {
     "name": "stdout",
     "output_type": "stream",
     "text": [
      "Training loss: 0.332, Training accuracy: 87.705 %\n",
      "------------------------------\n",
      "Epoch 6\n",
      "------------------------------\n"
     ]
    },
    {
     "name": "stderr",
     "output_type": "stream",
     "text": [
      " 60%|██████    | 6/10 [01:32<01:01, 15.34s/it]"
     ]
    },
    {
     "name": "stdout",
     "output_type": "stream",
     "text": [
      "Training loss: 0.330, Training accuracy: 88.028 %\n",
      "------------------------------\n",
      "Epoch 7\n",
      "------------------------------\n"
     ]
    },
    {
     "name": "stderr",
     "output_type": "stream",
     "text": [
      " 70%|███████   | 7/10 [01:47<00:45, 15.33s/it]"
     ]
    },
    {
     "name": "stdout",
     "output_type": "stream",
     "text": [
      "Training loss: 0.326, Training accuracy: 87.997 %\n",
      "------------------------------\n",
      "Epoch 8\n",
      "------------------------------\n"
     ]
    },
    {
     "name": "stderr",
     "output_type": "stream",
     "text": [
      " 80%|████████  | 8/10 [02:02<00:30, 15.33s/it]"
     ]
    },
    {
     "name": "stdout",
     "output_type": "stream",
     "text": [
      "Training loss: 0.328, Training accuracy: 87.923 %\n",
      "------------------------------\n",
      "Epoch 9\n",
      "------------------------------\n"
     ]
    },
    {
     "name": "stderr",
     "output_type": "stream",
     "text": [
      " 90%|█████████ | 9/10 [02:18<00:15, 15.40s/it]"
     ]
    },
    {
     "name": "stdout",
     "output_type": "stream",
     "text": [
      "Training loss: 0.329, Training accuracy: 88.027 %\n",
      "------------------------------\n",
      "Epoch 10\n",
      "------------------------------\n"
     ]
    },
    {
     "name": "stderr",
     "output_type": "stream",
     "text": [
      "100%|██████████| 10/10 [02:34<00:00, 15.41s/it]\n"
     ]
    },
    {
     "name": "stdout",
     "output_type": "stream",
     "text": [
      "Training loss: 0.334, Training accuracy: 87.783 %\n",
      "------------------------------\n",
      "Time: 154.14 seconds on mps\n"
     ]
    },
    {
     "name": "stderr",
     "output_type": "stream",
     "text": [
      "100%|██████████| 313/313 [00:01<00:00, 227.77it/s]"
     ]
    },
    {
     "name": "stdout",
     "output_type": "stream",
     "text": [
      "Test loss: 0.379, Test accuracy: 87.500 %\n",
      "Time: 1.38 seconds on mps\n"
     ]
    },
    {
     "name": "stderr",
     "output_type": "stream",
     "text": [
      "\n"
     ]
    }
   ],
   "source": [
    "seed_everything()\n",
    "model = FashionMNIST(input_size=1, hidden_size=10, output_size=len(classes))\n",
    "loss_fn = nn.CrossEntropyLoss()\n",
    "acc_fn = Accuracy(task=\"multiclass\", num_classes=len(classes))\n",
    "optimizer = torch.optim.Adam(model.parameters(), lr=0.01)\n",
    "\n",
    "epochs = 10\n",
    "train_step(model, train_data_loader, epochs, loss_fn, optimizer, acc_fn, device)\n",
    "test_step(model, test_data_loader, loss_fn, acc_fn, device)"
   ]
  },
  {
   "cell_type": "markdown",
   "metadata": {},
   "source": [
    "## 9. Visualize results"
   ]
  },
  {
   "cell_type": "code",
   "execution_count": 19,
   "metadata": {},
   "outputs": [
    {
     "data": {
      "image/png": "[encoded data removed]",
      "text/plain": [
       "<Figure size 800x800 with 16 Axes>"
      ]
     },
     "metadata": {},
     "output_type": "display_data"
    }
   ],
   "source": [
    "def plot_sample_predictions(model, test_data, classes, device):\n",
    "    sample_indices = np.random.choice(range(len(test_data)), 16, replace=False)\n",
    "    sample_images = test_data.data[sample_indices].unsqueeze(1).float().to(device)\n",
    "    sample_labels = test_data.targets[sample_indices].to(device)\n",
    "\n",
    "    model.eval()\n",
    "    model.to(device)\n",
    "    with torch.inference_mode():\n",
    "        sample_preds = model(sample_images)\n",
    "        sample_preds = sample_preds.argmax(dim=1)\n",
    "\n",
    "        plt.figure(figsize=(8, 8))\n",
    "        for i in range(16):\n",
    "            plt.subplot(4, 4, i + 1)\n",
    "            img = sample_images[i].squeeze().cpu()\n",
    "            plt.imshow(img, cmap=\"gray\")\n",
    "            plt.axis(\"off\")\n",
    "            pred = classes[sample_preds[i]]\n",
    "            title_color = \"green\" if pred == classes[sample_labels[i]] else \"red\"\n",
    "            plt.title(pred, color=title_color)\n",
    "\n",
    "\n",
    "plot_sample_predictions(model, test_data, classes, device)"
   ]
  },
  {
   "cell_type": "markdown",
   "metadata": {},
   "source": [
    "## 10. Save and Load model"
   ]
  },
  {
   "cell_type": "code",
   "execution_count": 20,
   "metadata": {},
   "outputs": [],
   "source": [
    "from pathlib import Path\n",
    "\n",
    "model_dir = Path(\"models\")\n",
    "model_dir.mkdir(exist_ok=True)\n",
    "\n",
    "torch.save(model.state_dict(), model_dir / \"03_fashion_mnist_model.pt\")"
   ]
  },
  {
   "cell_type": "code",
   "execution_count": 21,
   "metadata": {},
   "outputs": [
    {
     "data": {
      "image/png": "[encoded data removed]",
      "text/plain": [
       "<Figure size 800x800 with 16 Axes>"
      ]
     },
     "metadata": {},
     "output_type": "display_data"
    }
   ],
   "source": [
    "loaded_model = FashionMNIST(input_size=1, hidden_size=10, output_size=len(classes))\n",
    "loaded_model.load_state_dict(torch.load(model_dir / \"03_fashion_mnist_model.pt\"))\n",
    "\n",
    "plot_sample_predictions(loaded_model, test_data, classes, device)"
   ]
  }
 ],
 "metadata": {
  "kernelspec": {
   "display_name": "venv",
   "language": "python",
   "name": "python3"
  },
  "language_info": {
   "codemirror_mode": {
    "name": "ipython",
    "version": 3
   },
   "file_extension": ".py",
   "mimetype": "text/x-python",
   "name": "python",
   "nbconvert_exporter": "python",
   "pygments_lexer": "ipython3",
   "version": "3.11.4"
  }
 },
 "nbformat": 4,
 "nbformat_minor": 2
}
